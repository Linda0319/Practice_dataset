{
  "nbformat": 4,
  "nbformat_minor": 0,
  "metadata": {
    "accelerator": "GPU",
    "colab": {
      "name": "MNIST_CNN",
      "provenance": [],
      "authorship_tag": "ABX9TyMXY/ZAkyNelX+AuuyUOrj1",
      "include_colab_link": true
    },
    "kernelspec": {
      "display_name": "Python 3",
      "name": "python3"
    },
    "language_info": {
      "name": "python"
    }
  },
  "cells": [
    {
      "cell_type": "markdown",
      "metadata": {
        "id": "view-in-github",
        "colab_type": "text"
      },
      "source": [
        "<a href=\"https://colab.research.google.com/github/Linda0319/Practice_dataset/blob/main/MNIST_CNN.ipynb\" target=\"_parent\"><img src=\"https://colab.research.google.com/assets/colab-badge.svg\" alt=\"Open In Colab\"/></a>"
      ]
    },
    {
      "cell_type": "code",
      "metadata": {
        "id": "BAu8AlLpyTYT"
      },
      "source": [
        "''' Import keras to build a DL model '''\n",
        "import numpy as np\n",
        "import pandas as pd\n",
        "from tensorflow.keras.datasets import mnist\n",
        "from keras.utils import np_utils\n",
        "import matplotlib.pyplot as plt"
      ],
      "execution_count": null,
      "outputs": []
    },
    {
      "cell_type": "code",
      "metadata": {
        "id": "zxJtaOYd0jXE"
      },
      "source": [
        "from google.colab import drive\n",
        "drive.mount('/content/drive')"
      ],
      "execution_count": null,
      "outputs": []
    },
    {
      "cell_type": "markdown",
      "metadata": {
        "id": "CdV5eCpmz2vt"
      },
      "source": [
        "# 載入Mnist手寫辨識資料、資料前處理"
      ]
    },
    {
      "cell_type": "code",
      "metadata": {
        "id": "Gw81gcPL_N3f",
        "colab": {
          "base_uri": "https://localhost:8080/"
        },
        "outputId": "b865d90d-2847-4822-fa4e-b39f8aeaf47c"
      },
      "source": [
        "# get_mnist_data\n",
        "(x_train, y_train), (x_test, y_test) = mnist.load_data()"
      ],
      "execution_count": null,
      "outputs": [
        {
          "output_type": "stream",
          "text": [
            "Downloading data from https://storage.googleapis.com/tensorflow/tf-keras-datasets/mnist.npz\n",
            "11493376/11490434 [==============================] - 0s 0us/step\n"
          ],
          "name": "stdout"
        }
      ]
    },
    {
      "cell_type": "code",
      "metadata": {
        "colab": {
          "base_uri": "https://localhost:8080/",
          "height": 282
        },
        "id": "cfYczOih5c8B",
        "outputId": "9fe7b81a-d68b-4d1a-cece-d4dd0eba7bc7"
      },
      "source": [
        "plt.imshow(x_train[0])"
      ],
      "execution_count": null,
      "outputs": [
        {
          "output_type": "execute_result",
          "data": {
            "text/plain": [
              "<matplotlib.image.AxesImage at 0x7f8a900aff90>"
            ]
          },
          "metadata": {
            "tags": []
          },
          "execution_count": 150
        },
        {
          "output_type": "display_data",
          "data": {
            "image/png": "[encoded data removed]",
            "text/plain": [
              "<Figure size 432x288 with 1 Axes>"
            ]
          },
          "metadata": {
            "tags": [],
            "needs_background": "light"
          }
        }
      ]
    },
    {
      "cell_type": "code",
      "metadata": {
        "colab": {
          "base_uri": "https://localhost:8080/"
        },
        "id": "_8Dwj64s6OJN",
        "outputId": "7eb01710-ae82-40d0-8970-3eae087ea062"
      },
      "source": [
        "y_train[0]"
      ],
      "execution_count": null,
      "outputs": [
        {
          "output_type": "execute_result",
          "data": {
            "text/plain": [
              "5"
            ]
          },
          "metadata": {
            "tags": []
          },
          "execution_count": 151
        }
      ]
    },
    {
      "cell_type": "code",
      "metadata": {
        "id": "rHR-GQxbPLua"
      },
      "source": [
        "def plot_images_labels_training(images,labels,prediction,idx,num=10):\n",
        "    fig = plt.gcf()\n",
        "    fig.set_size_inches(6, 8)\n",
        "    if num>25: num=25 \n",
        "    for i in range(0, num):\n",
        "        ax=plt.subplot(5,5, 1+i)\n",
        "        ax.imshow(images[idx], cmap='binary')\n",
        "        title= \"label=\" +str(labels[idx])\n",
        "        if len(prediction)>0:\n",
        "            title+=\",predict=\"+str(prediction[idx]) \n",
        "            \n",
        "        ax.set_title(title,fontsize=10) \n",
        "        ax.set_xticks([]);ax.set_yticks([])        \n",
        "        idx+=1 \n",
        "    plt.show()"
      ],
      "execution_count": null,
      "outputs": []
    },
    {
      "cell_type": "code",
      "metadata": {
        "colab": {
          "base_uri": "https://localhost:8080/",
          "height": 196
        },
        "id": "Ly44ziT9POwJ",
        "outputId": "3fef167c-babc-4a16-dc0a-e14cad6ff2aa"
      },
      "source": [
        "plot_images_labels_training(x_train,y_train,[],0,10)"
      ],
      "execution_count": null,
      "outputs": [
        {
          "output_type": "display_data",
          "data": {
            "image/png": "[encoded data removed]",
            "text/plain": [
              "<Figure size 432x576 with 10 Axes>"
            ]
          },
          "metadata": {
            "tags": []
          }
        }
      ]
    },
    {
      "cell_type": "code",
      "metadata": {
        "colab": {
          "base_uri": "https://localhost:8080/",
          "height": 196
        },
        "id": "wRQNqlNCQInc",
        "outputId": "2cfbe67d-21cf-48e7-843f-fbfd9366882c"
      },
      "source": [
        "plot_images_labels_training(x_test,y_test,[],0,10)"
      ],
      "execution_count": null,
      "outputs": [
        {
          "output_type": "display_data",
          "data": {
            "image/png": "[encoded data removed]",
            "text/plain": [
              "<Figure size 432x576 with 10 Axes>"
            ]
          },
          "metadata": {
            "tags": []
          }
        }
      ]
    },
    {
      "cell_type": "markdown",
      "metadata": {
        "id": "H8MpykHtdWmm"
      },
      "source": [
        "- **資料轉化**"
      ]
    },
    {
      "cell_type": "code",
      "metadata": {
        "id": "SFfY-LaE0pr4"
      },
      "source": [
        "def data_transform():\n",
        "\n",
        "      x_train4D = x_train.reshape(x_train.shape[0], 28, 28, 1).astype('float32')\n",
        "      x_test4D = x_test.reshape(x_test.shape[0], 28, 28, 1).astype('float32')\n",
        "\n",
        "      #灰階圖片數值為0-255間，標準化，將數值縮小到0~1\n",
        "      x_train4D_normalize = x_train4D/255 \n",
        "      x_test4D_normalize = x_test4D/255\n",
        "\n",
        "      # convert class vectors to binary class matrices，Onehot encoding\n",
        "      y_trainOneHot = np_utils.to_categorical(y_train)\n",
        "      y_testOneHot = np_utils.to_categorical(y_test)\n",
        "      return x_train4D_normalize,y_trainOneHot, x_test4D_normalize, y_testOneHot"
      ],
      "execution_count": null,
      "outputs": []
    },
    {
      "cell_type": "code",
      "metadata": {
        "colab": {
          "base_uri": "https://localhost:8080/"
        },
        "id": "9vtTiJJv2FNQ",
        "outputId": "67e50ee6-fe52-4971-ddbb-7850b4b002c5"
      },
      "source": [
        "x_train4D_normalize,y_trainOneHot, x_test4D_normalize, y_testOneHot = data_transform()\n",
        "print('x_train_image:', x_train4D_normalize.shape)\n",
        "print('y_train_label:', y_trainOneHot.shape)\n",
        "\n",
        "print('x_test_image:', x_test4D_normalize.shape)\n",
        "print('y_test_label:', y_testOneHot.shape)"
      ],
      "execution_count": null,
      "outputs": [
        {
          "output_type": "stream",
          "text": [
            "x_train_image: (60000, 28, 28, 1)\n",
            "y_train_label: (60000, 10)\n",
            "x_test_image: (10000, 28, 28, 1)\n",
            "y_test_label: (10000, 10)\n"
          ],
          "name": "stdout"
        }
      ]
    },
    {
      "cell_type": "markdown",
      "metadata": {
        "id": "uLEUK98T7Zmx"
      },
      "source": [
        "# **建立模型**"
      ]
    },
    {
      "cell_type": "code",
      "metadata": {
        "id": "RrAD4IgM9223"
      },
      "source": [
        "import keras\n",
        "from keras.models import Sequential\n",
        "from keras.layers import Dense, Dropout, Activation"
      ],
      "execution_count": null,
      "outputs": []
    },
    {
      "cell_type": "markdown",
      "metadata": {
        "id": "b92eYcVf7uzs"
      },
      "source": [
        "# **CNN**"
      ]
    },
    {
      "cell_type": "code",
      "metadata": {
        "id": "_jKRJHwXzims",
        "colab": {
          "base_uri": "https://localhost:8080/"
        },
        "outputId": "23fd9091-2f4b-4fef-d8b2-9c2bf8a09066"
      },
      "source": [
        "#Define Model\n",
        "model = Sequential([\n",
        "    Conv2D(16, kernel_size=(5, 5), padding='same', activation='relu', input_shape=(28, 28, 1)), \n",
        "    Conv2D(36, kernel_size=(5, 5), padding='same', activation='relu'),\n",
        "    MaxPooling2D(pool_size=(2, 2)),\n",
        "    Dropout(0.25),\n",
        "\n",
        "    Dense(128, activation='relu'),\n",
        "    Dropout(0.5),\n",
        "    Dense(10, activation='softmax')\n",
        "])\n",
        "#Compile\n",
        "model.compile(loss='categorical_crossentropy', optimizer='Adam', metrics=['accuracy'])\n",
        "print(model.summary())"
      ],
      "execution_count": null,
      "outputs": [
        {
          "output_type": "stream",
          "text": [
            "Model: \"sequential\"\n",
            "_________________________________________________________________\n",
            "Layer (type)                 Output Shape              Param #   \n",
            "=================================================================\n",
            "conv2d (Conv2D)              (None, 28, 28, 16)        416       \n",
            "_________________________________________________________________\n",
            "conv2d_1 (Conv2D)            (None, 28, 28, 36)        14436     \n",
            "_________________________________________________________________\n",
            "max_pooling2d (MaxPooling2D) (None, 14, 14, 36)        0         \n",
            "_________________________________________________________________\n",
            "dropout (Dropout)            (None, 14, 14, 36)        0         \n",
            "_________________________________________________________________\n",
            "flatten (Flatten)            (None, 7056)              0         \n",
            "_________________________________________________________________\n",
            "dense (Dense)                (None, 128)               903296    \n",
            "_________________________________________________________________\n",
            "dropout_1 (Dropout)          (None, 128)               0         \n",
            "_________________________________________________________________\n",
            "dense_1 (Dense)              (None, 10)                1290      \n",
            "=================================================================\n",
            "Total params: 919,438\n",
            "Trainable params: 919,438\n",
            "Non-trainable params: 0\n",
            "_________________________________________________________________\n",
            "None\n"
          ],
          "name": "stdout"
        }
      ]
    },
    {
      "cell_type": "code",
      "metadata": {
        "colab": {
          "base_uri": "https://localhost:8080/"
        },
        "id": "U2DAnO1d87dn",
        "outputId": "a78a7944-1e9d-4b52-d2ae-afec80c76881"
      },
      "source": [
        "train_history = model.fit(x=x_train4D_normalize, y=y_trainOneHot, validation_split=0.2, batch_size=500, epochs=15, verbose=2)"
      ],
      "execution_count": null,
      "outputs": [
        {
          "output_type": "stream",
          "text": [
            "Epoch 1/15\n",
            "96/96 - 2s - loss: 0.0036 - accuracy: 0.9990 - val_loss: 0.0444 - val_accuracy: 0.9925\n",
            "Epoch 2/15\n",
            "96/96 - 1s - loss: 0.0030 - accuracy: 0.9990 - val_loss: 0.0434 - val_accuracy: 0.9926\n",
            "Epoch 3/15\n",
            "96/96 - 1s - loss: 0.0030 - accuracy: 0.9990 - val_loss: 0.0457 - val_accuracy: 0.9925\n",
            "Epoch 4/15\n",
            "96/96 - 1s - loss: 0.0031 - accuracy: 0.9989 - val_loss: 0.0449 - val_accuracy: 0.9927\n",
            "Epoch 5/15\n",
            "96/96 - 1s - loss: 0.0034 - accuracy: 0.9989 - val_loss: 0.0458 - val_accuracy: 0.9927\n",
            "Epoch 6/15\n",
            "96/96 - 1s - loss: 0.0028 - accuracy: 0.9992 - val_loss: 0.0459 - val_accuracy: 0.9931\n",
            "Epoch 7/15\n",
            "96/96 - 1s - loss: 0.0027 - accuracy: 0.9992 - val_loss: 0.0480 - val_accuracy: 0.9933\n",
            "Epoch 8/15\n",
            "96/96 - 1s - loss: 0.0028 - accuracy: 0.9991 - val_loss: 0.0498 - val_accuracy: 0.9918\n",
            "Epoch 9/15\n",
            "96/96 - 1s - loss: 0.0032 - accuracy: 0.9989 - val_loss: 0.0535 - val_accuracy: 0.9927\n",
            "Epoch 10/15\n",
            "96/96 - 1s - loss: 0.0029 - accuracy: 0.9989 - val_loss: 0.0505 - val_accuracy: 0.9931\n",
            "Epoch 11/15\n",
            "96/96 - 1s - loss: 0.0029 - accuracy: 0.9990 - val_loss: 0.0500 - val_accuracy: 0.9926\n",
            "Epoch 12/15\n",
            "96/96 - 1s - loss: 0.0034 - accuracy: 0.9987 - val_loss: 0.0477 - val_accuracy: 0.9925\n",
            "Epoch 13/15\n",
            "96/96 - 1s - loss: 0.0031 - accuracy: 0.9988 - val_loss: 0.0507 - val_accuracy: 0.9927\n",
            "Epoch 14/15\n",
            "96/96 - 1s - loss: 0.0036 - accuracy: 0.9987 - val_loss: 0.0428 - val_accuracy: 0.9936\n",
            "Epoch 15/15\n",
            "96/96 - 1s - loss: 0.0026 - accuracy: 0.9990 - val_loss: 0.0441 - val_accuracy: 0.9937\n"
          ],
          "name": "stdout"
        }
      ]
    },
    {
      "cell_type": "code",
      "metadata": {
        "id": "UviKDSKY9YvV"
      },
      "source": [
        "# Plot graph between training and validation loss\n",
        "images_dir = '/content/drive/MyDrive/Colab Notebooks/images/'\n",
        "def show_train_history(train_loss, val_loss, filename):\n",
        "    plt.plot(train_history.history[train_loss])\n",
        "    plt.plot(train_history.history[val_loss])\n",
        "    plt.title('Training and Validation Losses')\n",
        "    plt.ylabel('Loss')\n",
        "    plt.xlabel('Epoch')\n",
        "    plt.legend(['Training', 'Validation'], loc='upper left')\n",
        "    #plt.show()\n",
        "    plt.savefig(f'{images_dir}'+ 'MNIST_DNN_' + filename +'.jpg')"
      ],
      "execution_count": null,
      "outputs": []
    },
    {
      "cell_type": "code",
      "metadata": {
        "colab": {
          "base_uri": "https://localhost:8080/",
          "height": 294
        },
        "id": "9kpoFR5wS3ID",
        "outputId": "60e018f8-1e42-4ee0-cc3b-6d739873d3e5"
      },
      "source": [
        "show_train_history('loss','val_loss', 'train_loss_1')"
      ],
      "execution_count": null,
      "outputs": [
        {
          "output_type": "display_data",
          "data": {
            "image/png": "[encoded data removed]",
            "text/plain": [
              "<Figure size 432x288 with 1 Axes>"
            ]
          },
          "metadata": {
            "tags": [],
            "needs_background": "light"
          }
        }
      ]
    },
    {
      "cell_type": "code",
      "metadata": {
        "id": "8Nqg60GbS_Cj"
      },
      "source": [
        "# Plot graph between training and validation accuracy\n",
        "images_dir = '/content/drive/MyDrive/Colab Notebooks/images/'\n",
        "def show_train_history(train_acc, val_acc, filename):\n",
        "    plt.plot(train_history.history[train_acc])\n",
        "    plt.plot(train_history.history[val_acc])\n",
        "    plt.title('Training and Validation Accuracy')\n",
        "    plt.ylabel('Accuracy')\n",
        "    plt.xlabel('Epoch')\n",
        "    plt.legend(['Training', 'Validation'], loc='upper left')\n",
        "    #plt.show()\n",
        "    plt.savefig(f'{images_dir}'+ 'MNIST_DNN_' + filename +'.jpg')"
      ],
      "execution_count": null,
      "outputs": []
    },
    {
      "cell_type": "code",
      "metadata": {
        "colab": {
          "base_uri": "https://localhost:8080/",
          "height": 294
        },
        "id": "4sxGOR8mTNhm",
        "outputId": "79134ff8-eba3-4a86-ae8e-932781a85796"
      },
      "source": [
        "show_train_history('accuracy','val_accuracy','train_accuracy_1')"
      ],
      "execution_count": null,
      "outputs": [
        {
          "output_type": "display_data",
          "data": {
            "image/png": "[encoded data removed]",
            "text/plain": [
              "<Figure size 432x288 with 1 Axes>"
            ]
          },
          "metadata": {
            "tags": [],
            "needs_background": "light"
          }
        }
      ]
    },
    {
      "cell_type": "markdown",
      "metadata": {
        "id": "fcNc_Y9QWAST"
      },
      "source": [
        "# **模型評估與預測**"
      ]
    },
    {
      "cell_type": "code",
      "metadata": {
        "colab": {
          "base_uri": "https://localhost:8080/"
        },
        "id": "9OZGWpbhVFiz",
        "outputId": "e33b4094-98e5-4f62-95d2-1bafe92c46c6"
      },
      "source": [
        "scores = model.evaluate(x_test4D_normalize, y_testOneHot)\n",
        "scores[1]"
      ],
      "execution_count": null,
      "outputs": [
        {
          "output_type": "stream",
          "text": [
            "313/313 [==============================] - 1s 3ms/step - loss: 0.0275 - accuracy: 0.9938\n"
          ],
          "name": "stdout"
        },
        {
          "output_type": "execute_result",
          "data": {
            "text/plain": [
              "0.9937999844551086"
            ]
          },
          "metadata": {
            "tags": []
          },
          "execution_count": 177
        }
      ]
    },
    {
      "cell_type": "code",
      "metadata": {
        "colab": {
          "base_uri": "https://localhost:8080/"
        },
        "id": "amM7qConV93c",
        "outputId": "ad6c75b3-9dd3-42f1-e075-313bd00f9d20"
      },
      "source": [
        "y_pred_prob = model.predict_proba(x_test4D_normalize)"
      ],
      "execution_count": null,
      "outputs": [
        {
          "output_type": "stream",
          "text": [
            "/usr/local/lib/python3.7/dist-packages/keras/engine/sequential.py:425: UserWarning: `model.predict_proba()` is deprecated and will be removed after 2021-01-01. Please use `model.predict()` instead.\n",
            "  warnings.warn('`model.predict_proba()` is deprecated and '\n"
          ],
          "name": "stderr"
        }
      ]
    },
    {
      "cell_type": "code",
      "metadata": {
        "colab": {
          "base_uri": "https://localhost:8080/"
        },
        "id": "p8_RMcp8WxG4",
        "outputId": "39a2b08f-5d8b-4eef-c0dc-4df61e1aae8b"
      },
      "source": [
        "y_pred_prob.shape"
      ],
      "execution_count": null,
      "outputs": [
        {
          "output_type": "execute_result",
          "data": {
            "text/plain": [
              "(10000, 10)"
            ]
          },
          "metadata": {
            "tags": []
          },
          "execution_count": 199
        }
      ]
    },
    {
      "cell_type": "code",
      "metadata": {
        "colab": {
          "base_uri": "https://localhost:8080/"
        },
        "id": "KVeL0ardXa5r",
        "outputId": "c210ddd3-d04f-48c8-962e-e54c60fecbd4"
      },
      "source": [
        "y_pred_class = model.predict_classes(x_test4D_normalize)"
      ],
      "execution_count": null,
      "outputs": [
        {
          "output_type": "stream",
          "text": [
            "/usr/local/lib/python3.7/dist-packages/keras/engine/sequential.py:450: UserWarning: `model.predict_classes()` is deprecated and will be removed after 2021-01-01. Please use instead:* `np.argmax(model.predict(x), axis=-1)`,   if your model does multi-class classification   (e.g. if it uses a `softmax` last-layer activation).* `(model.predict(x) > 0.5).astype(\"int32\")`,   if your model does binary classification   (e.g. if it uses a `sigmoid` last-layer activation).\n",
            "  warnings.warn('`model.predict_classes()` is deprecated and '\n"
          ],
          "name": "stderr"
        }
      ]
    },
    {
      "cell_type": "code",
      "metadata": {
        "colab": {
          "base_uri": "https://localhost:8080/"
        },
        "id": "2SM55-zxaq0J",
        "outputId": "ad5c609e-115c-4f30-b3e5-257b269531cf"
      },
      "source": [
        "y_pred_class[:10]"
      ],
      "execution_count": null,
      "outputs": [
        {
          "output_type": "execute_result",
          "data": {
            "text/plain": [
              "array([7, 2, 1, 0, 4, 1, 4, 9, 5, 9])"
            ]
          },
          "metadata": {
            "tags": []
          },
          "execution_count": 195
        }
      ]
    },
    {
      "cell_type": "markdown",
      "metadata": {
        "id": "cuzUIgJNXKBE"
      },
      "source": [
        "- 看ROC_AUC分數"
      ]
    },
    {
      "cell_type": "code",
      "metadata": {
        "colab": {
          "base_uri": "https://localhost:8080/"
        },
        "id": "foQrqxQgWYAX",
        "outputId": "9937ebe1-dcf5-4fdf-dfde-49a98350c1a8"
      },
      "source": [
        "from sklearn.metrics import roc_auc_score\n",
        "roc_auc_score(np.array(y_test),y_pred_prob, multi_class='ovr',average='weighted')"
      ],
      "execution_count": null,
      "outputs": [
        {
          "output_type": "execute_result",
          "data": {
            "text/plain": [
              "0.9999737556228316"
            ]
          },
          "metadata": {
            "tags": []
          },
          "execution_count": 200
        }
      ]
    },
    {
      "cell_type": "markdown",
      "metadata": {
        "id": "XX0BhMvpi_hr"
      },
      "source": [
        "- 看label與predict圖"
      ]
    },
    {
      "cell_type": "code",
      "metadata": {
        "id": "ww9ifDFviSmr"
      },
      "source": [
        "def plot_images_labels_prediction(images,labels,prediction,idx,num=10):\n",
        "    fig = plt.gcf()\n",
        "    fig.set_size_inches(10, 12)\n",
        "    if num>25: num=25 \n",
        "    for i in range(0, num):\n",
        "        ax=plt.subplot(5,5, 1+i)\n",
        "        ax.imshow(images[idx], cmap='binary')\n",
        "\n",
        "        ax.set_title(\"label=\" +str(labels[idx])+\n",
        "                     \",predict=\"+str(prediction[idx])\n",
        "                     ,fontsize=10) \n",
        "        \n",
        "        ax.set_xticks([]);ax.set_yticks([])        \n",
        "        idx+=1 \n",
        "    plt.show()"
      ],
      "execution_count": null,
      "outputs": []
    },
    {
      "cell_type": "code",
      "metadata": {
        "colab": {
          "base_uri": "https://localhost:8080/",
          "height": 280
        },
        "id": "7cM0HIgFa-UE",
        "outputId": "f5d1521a-af7b-4682-b158-fdf07797cab1"
      },
      "source": [
        "plot_images_labels_prediction(x_test,y_test,y_pred_class,idx=0)"
      ],
      "execution_count": null,
      "outputs": [
        {
          "output_type": "display_data",
          "data": {
            "image/png": "[encoded data removed]",
            "text/plain": [
              "<Figure size 720x864 with 10 Axes>"
            ]
          },
          "metadata": {
            "tags": []
          }
        }
      ]
    },
    {
      "cell_type": "markdown",
      "metadata": {
        "id": "J87eT5YpjFgv"
      },
      "source": [
        "- 用矩陣看預測結果"
      ]
    },
    {
      "cell_type": "code",
      "metadata": {
        "colab": {
          "base_uri": "https://localhost:8080/",
          "height": 394
        },
        "id": "ZSx9IO17bAKw",
        "outputId": "69ed6127-aa75-4020-fb7d-5fde5626ecf0"
      },
      "source": [
        "pd.crosstab(y_test,y_pred_class,\n",
        "            rownames=['label'],colnames=['predict'])"
      ],
      "execution_count": null,
      "outputs": [
        {
          "output_type": "execute_result",
          "data": {
            "text/html": [
              "<div>\n",
              "<style scoped>\n",
              "    .dataframe tbody tr th:only-of-type {\n",
              "        vertical-align: middle;\n",
              "    }\n",
              "\n",
              "    .dataframe tbody tr th {\n",
              "        vertical-align: top;\n",
              "    }\n",
              "\n",
              "    .dataframe thead th {\n",
              "        text-align: right;\n",
              "    }\n",
              "</style>\n",
              "<table border=\"1\" class=\"dataframe\">\n",
              "  <thead>\n",
              "    <tr style=\"text-align: right;\">\n",
              "      <th>predict</th>\n",
              "      <th>0</th>\n",
              "      <th>1</th>\n",
              "      <th>2</th>\n",
              "      <th>3</th>\n",
              "      <th>4</th>\n",
              "      <th>5</th>\n",
              "      <th>6</th>\n",
              "      <th>7</th>\n",
              "      <th>8</th>\n",
              "      <th>9</th>\n",
              "    </tr>\n",
              "    <tr>\n",
              "      <th>label</th>\n",
              "      <th></th>\n",
              "      <th></th>\n",
              "      <th></th>\n",
              "      <th></th>\n",
              "      <th></th>\n",
              "      <th></th>\n",
              "      <th></th>\n",
              "      <th></th>\n",
              "      <th></th>\n",
              "      <th></th>\n",
              "    </tr>\n",
              "  </thead>\n",
              "  <tbody>\n",
              "    <tr>\n",
              "      <th>0</th>\n",
              "      <td>976</td>\n",
              "      <td>1</td>\n",
              "      <td>0</td>\n",
              "      <td>0</td>\n",
              "      <td>0</td>\n",
              "      <td>0</td>\n",
              "      <td>1</td>\n",
              "      <td>1</td>\n",
              "      <td>1</td>\n",
              "      <td>0</td>\n",
              "    </tr>\n",
              "    <tr>\n",
              "      <th>1</th>\n",
              "      <td>0</td>\n",
              "      <td>1133</td>\n",
              "      <td>1</td>\n",
              "      <td>0</td>\n",
              "      <td>0</td>\n",
              "      <td>0</td>\n",
              "      <td>0</td>\n",
              "      <td>1</td>\n",
              "      <td>0</td>\n",
              "      <td>0</td>\n",
              "    </tr>\n",
              "    <tr>\n",
              "      <th>2</th>\n",
              "      <td>2</td>\n",
              "      <td>1</td>\n",
              "      <td>1025</td>\n",
              "      <td>0</td>\n",
              "      <td>0</td>\n",
              "      <td>0</td>\n",
              "      <td>0</td>\n",
              "      <td>4</td>\n",
              "      <td>0</td>\n",
              "      <td>0</td>\n",
              "    </tr>\n",
              "    <tr>\n",
              "      <th>3</th>\n",
              "      <td>0</td>\n",
              "      <td>0</td>\n",
              "      <td>1</td>\n",
              "      <td>1004</td>\n",
              "      <td>0</td>\n",
              "      <td>4</td>\n",
              "      <td>0</td>\n",
              "      <td>0</td>\n",
              "      <td>1</td>\n",
              "      <td>0</td>\n",
              "    </tr>\n",
              "    <tr>\n",
              "      <th>4</th>\n",
              "      <td>0</td>\n",
              "      <td>0</td>\n",
              "      <td>0</td>\n",
              "      <td>0</td>\n",
              "      <td>980</td>\n",
              "      <td>0</td>\n",
              "      <td>0</td>\n",
              "      <td>0</td>\n",
              "      <td>0</td>\n",
              "      <td>2</td>\n",
              "    </tr>\n",
              "    <tr>\n",
              "      <th>5</th>\n",
              "      <td>0</td>\n",
              "      <td>0</td>\n",
              "      <td>0</td>\n",
              "      <td>4</td>\n",
              "      <td>0</td>\n",
              "      <td>887</td>\n",
              "      <td>1</td>\n",
              "      <td>0</td>\n",
              "      <td>0</td>\n",
              "      <td>0</td>\n",
              "    </tr>\n",
              "    <tr>\n",
              "      <th>6</th>\n",
              "      <td>2</td>\n",
              "      <td>2</td>\n",
              "      <td>0</td>\n",
              "      <td>1</td>\n",
              "      <td>3</td>\n",
              "      <td>1</td>\n",
              "      <td>947</td>\n",
              "      <td>0</td>\n",
              "      <td>2</td>\n",
              "      <td>0</td>\n",
              "    </tr>\n",
              "    <tr>\n",
              "      <th>7</th>\n",
              "      <td>0</td>\n",
              "      <td>0</td>\n",
              "      <td>4</td>\n",
              "      <td>0</td>\n",
              "      <td>0</td>\n",
              "      <td>0</td>\n",
              "      <td>0</td>\n",
              "      <td>1022</td>\n",
              "      <td>1</td>\n",
              "      <td>1</td>\n",
              "    </tr>\n",
              "    <tr>\n",
              "      <th>8</th>\n",
              "      <td>1</td>\n",
              "      <td>0</td>\n",
              "      <td>1</td>\n",
              "      <td>1</td>\n",
              "      <td>0</td>\n",
              "      <td>0</td>\n",
              "      <td>0</td>\n",
              "      <td>0</td>\n",
              "      <td>968</td>\n",
              "      <td>3</td>\n",
              "    </tr>\n",
              "    <tr>\n",
              "      <th>9</th>\n",
              "      <td>0</td>\n",
              "      <td>0</td>\n",
              "      <td>0</td>\n",
              "      <td>0</td>\n",
              "      <td>9</td>\n",
              "      <td>3</td>\n",
              "      <td>0</td>\n",
              "      <td>1</td>\n",
              "      <td>0</td>\n",
              "      <td>996</td>\n",
              "    </tr>\n",
              "  </tbody>\n",
              "</table>\n",
              "</div>"
            ],
            "text/plain": [
              "predict    0     1     2     3    4    5    6     7    8    9\n",
              "label                                                        \n",
              "0        976     1     0     0    0    0    1     1    1    0\n",
              "1          0  1133     1     0    0    0    0     1    0    0\n",
              "2          2     1  1025     0    0    0    0     4    0    0\n",
              "3          0     0     1  1004    0    4    0     0    1    0\n",
              "4          0     0     0     0  980    0    0     0    0    2\n",
              "5          0     0     0     4    0  887    1     0    0    0\n",
              "6          2     2     0     1    3    1  947     0    2    0\n",
              "7          0     0     4     0    0    0    0  1022    1    1\n",
              "8          1     0     1     1    0    0    0     0  968    3\n",
              "9          0     0     0     0    9    3    0     1    0  996"
            ]
          },
          "metadata": {
            "tags": []
          },
          "execution_count": 214
        }
      ]
    },
    {
      "cell_type": "code",
      "metadata": {
        "id": "lKrr8122jLIj"
      },
      "source": [
        "df = pd.DataFrame({'label':y_test, 'predict':y_pred_class})"
      ],
      "execution_count": null,
      "outputs": []
    },
    {
      "cell_type": "code",
      "metadata": {
        "colab": {
          "base_uri": "https://localhost:8080/",
          "height": 332
        },
        "id": "-AJkINq3jfW_",
        "outputId": "78b80775-0312-4c07-f7cb-6d178ad2ab39"
      },
      "source": [
        "df[(df.label==9)&(df.predict==4)]"
      ],
      "execution_count": null,
      "outputs": [
        {
          "output_type": "execute_result",
          "data": {
            "text/html": [
              "<div>\n",
              "<style scoped>\n",
              "    .dataframe tbody tr th:only-of-type {\n",
              "        vertical-align: middle;\n",
              "    }\n",
              "\n",
              "    .dataframe tbody tr th {\n",
              "        vertical-align: top;\n",
              "    }\n",
              "\n",
              "    .dataframe thead th {\n",
              "        text-align: right;\n",
              "    }\n",
              "</style>\n",
              "<table border=\"1\" class=\"dataframe\">\n",
              "  <thead>\n",
              "    <tr style=\"text-align: right;\">\n",
              "      <th></th>\n",
              "      <th>label</th>\n",
              "      <th>predict</th>\n",
              "    </tr>\n",
              "  </thead>\n",
              "  <tbody>\n",
              "    <tr>\n",
              "      <th>1232</th>\n",
              "      <td>9</td>\n",
              "      <td>4</td>\n",
              "    </tr>\n",
              "    <tr>\n",
              "      <th>1414</th>\n",
              "      <td>9</td>\n",
              "      <td>4</td>\n",
              "    </tr>\n",
              "    <tr>\n",
              "      <th>1901</th>\n",
              "      <td>9</td>\n",
              "      <td>4</td>\n",
              "    </tr>\n",
              "    <tr>\n",
              "      <th>2293</th>\n",
              "      <td>9</td>\n",
              "      <td>4</td>\n",
              "    </tr>\n",
              "    <tr>\n",
              "      <th>2414</th>\n",
              "      <td>9</td>\n",
              "      <td>4</td>\n",
              "    </tr>\n",
              "    <tr>\n",
              "      <th>2720</th>\n",
              "      <td>9</td>\n",
              "      <td>4</td>\n",
              "    </tr>\n",
              "    <tr>\n",
              "      <th>3985</th>\n",
              "      <td>9</td>\n",
              "      <td>4</td>\n",
              "    </tr>\n",
              "    <tr>\n",
              "      <th>4761</th>\n",
              "      <td>9</td>\n",
              "      <td>4</td>\n",
              "    </tr>\n",
              "    <tr>\n",
              "      <th>4823</th>\n",
              "      <td>9</td>\n",
              "      <td>4</td>\n",
              "    </tr>\n",
              "  </tbody>\n",
              "</table>\n",
              "</div>"
            ],
            "text/plain": [
              "      label  predict\n",
              "1232      9        4\n",
              "1414      9        4\n",
              "1901      9        4\n",
              "2293      9        4\n",
              "2414      9        4\n",
              "2720      9        4\n",
              "3985      9        4\n",
              "4761      9        4\n",
              "4823      9        4"
            ]
          },
          "metadata": {
            "tags": []
          },
          "execution_count": 234
        }
      ]
    },
    {
      "cell_type": "code",
      "metadata": {
        "colab": {
          "base_uri": "https://localhost:8080/"
        },
        "id": "IFW0eAuXjiTR",
        "outputId": "d8ffc596-abfa-493f-d053-5ec42c14c516"
      },
      "source": [
        "df[(df.label==9)&(df.predict==4)].index"
      ],
      "execution_count": null,
      "outputs": [
        {
          "output_type": "execute_result",
          "data": {
            "text/plain": [
              "Int64Index([1232, 1414, 1901, 2293, 2414, 2720, 3985, 4761, 4823], dtype='int64')"
            ]
          },
          "metadata": {
            "tags": []
          },
          "execution_count": 218
        }
      ]
    },
    {
      "cell_type": "code",
      "metadata": {
        "colab": {
          "base_uri": "https://localhost:8080/",
          "height": 606
        },
        "id": "WtGWIwW-jy8G",
        "outputId": "5812225b-d282-4de7-d798-3db6e357df60"
      },
      "source": [
        "# 看預測錯誤的圖\n",
        "plot_images_labels_prediction(\n",
        "    [x_test[i] for i in df[(df.label==9)&(df.predict==4)].index],\n",
        "    [y_test[i] for i in df[(df.label==9)&(df.predict==4)].index],\n",
        "    y_pred_class,idx=0)"
      ],
      "execution_count": null,
      "outputs": [
        {
          "output_type": "error",
          "ename": "IndexError",
          "evalue": "ignored",
          "traceback": [
            "\u001b[0;31m---------------------------------------------------------------------------\u001b[0m",
            "\u001b[0;31mIndexError\u001b[0m                                Traceback (most recent call last)",
            "\u001b[0;32m<ipython-input-233-4851619d2e65>\u001b[0m in \u001b[0;36m<module>\u001b[0;34m()\u001b[0m\n\u001b[1;32m      2\u001b[0m     \u001b[0;34m[\u001b[0m\u001b[0mx_test\u001b[0m\u001b[0;34m[\u001b[0m\u001b[0mi\u001b[0m\u001b[0;34m]\u001b[0m \u001b[0;32mfor\u001b[0m \u001b[0mi\u001b[0m \u001b[0;32min\u001b[0m \u001b[0mdf\u001b[0m\u001b[0;34m[\u001b[0m\u001b[0;34m(\u001b[0m\u001b[0mdf\u001b[0m\u001b[0;34m.\u001b[0m\u001b[0mlabel\u001b[0m\u001b[0;34m==\u001b[0m\u001b[0;36m9\u001b[0m\u001b[0;34m)\u001b[0m\u001b[0;34m&\u001b[0m\u001b[0;34m(\u001b[0m\u001b[0mdf\u001b[0m\u001b[0;34m.\u001b[0m\u001b[0mpredict\u001b[0m\u001b[0;34m==\u001b[0m\u001b[0;36m4\u001b[0m\u001b[0;34m)\u001b[0m\u001b[0;34m]\u001b[0m\u001b[0;34m.\u001b[0m\u001b[0mindex\u001b[0m\u001b[0;34m]\u001b[0m\u001b[0;34m,\u001b[0m\u001b[0;34m\u001b[0m\u001b[0;34m\u001b[0m\u001b[0m\n\u001b[1;32m      3\u001b[0m     \u001b[0;34m[\u001b[0m\u001b[0my_test\u001b[0m\u001b[0;34m[\u001b[0m\u001b[0mi\u001b[0m\u001b[0;34m]\u001b[0m \u001b[0;32mfor\u001b[0m \u001b[0mi\u001b[0m \u001b[0;32min\u001b[0m \u001b[0mdf\u001b[0m\u001b[0;34m[\u001b[0m\u001b[0;34m(\u001b[0m\u001b[0mdf\u001b[0m\u001b[0;34m.\u001b[0m\u001b[0mlabel\u001b[0m\u001b[0;34m==\u001b[0m\u001b[0;36m9\u001b[0m\u001b[0;34m)\u001b[0m\u001b[0;34m&\u001b[0m\u001b[0;34m(\u001b[0m\u001b[0mdf\u001b[0m\u001b[0;34m.\u001b[0m\u001b[0mpredict\u001b[0m\u001b[0;34m==\u001b[0m\u001b[0;36m4\u001b[0m\u001b[0;34m)\u001b[0m\u001b[0;34m]\u001b[0m\u001b[0;34m.\u001b[0m\u001b[0mindex\u001b[0m\u001b[0;34m]\u001b[0m\u001b[0;34m,\u001b[0m\u001b[0;34m\u001b[0m\u001b[0;34m\u001b[0m\u001b[0m\n\u001b[0;32m----> 4\u001b[0;31m     y_pred_class,idx=0)\n\u001b[0m",
            "\u001b[0;32m<ipython-input-227-5a2909ec572f>\u001b[0m in \u001b[0;36mplot_images_labels_prediction\u001b[0;34m(images, labels, prediction, idx, num)\u001b[0m\n\u001b[1;32m      5\u001b[0m     \u001b[0;32mfor\u001b[0m \u001b[0mi\u001b[0m \u001b[0;32min\u001b[0m \u001b[0mrange\u001b[0m\u001b[0;34m(\u001b[0m\u001b[0;36m0\u001b[0m\u001b[0;34m,\u001b[0m \u001b[0mnum\u001b[0m\u001b[0;34m)\u001b[0m\u001b[0;34m:\u001b[0m\u001b[0;34m\u001b[0m\u001b[0;34m\u001b[0m\u001b[0m\n\u001b[1;32m      6\u001b[0m         \u001b[0max\u001b[0m\u001b[0;34m=\u001b[0m\u001b[0mplt\u001b[0m\u001b[0;34m.\u001b[0m\u001b[0msubplot\u001b[0m\u001b[0;34m(\u001b[0m\u001b[0;36m5\u001b[0m\u001b[0;34m,\u001b[0m\u001b[0;36m5\u001b[0m\u001b[0;34m,\u001b[0m \u001b[0;36m1\u001b[0m\u001b[0;34m+\u001b[0m\u001b[0mi\u001b[0m\u001b[0;34m)\u001b[0m\u001b[0;34m\u001b[0m\u001b[0;34m\u001b[0m\u001b[0m\n\u001b[0;32m----> 7\u001b[0;31m         \u001b[0max\u001b[0m\u001b[0;34m.\u001b[0m\u001b[0mimshow\u001b[0m\u001b[0;34m(\u001b[0m\u001b[0mimages\u001b[0m\u001b[0;34m[\u001b[0m\u001b[0midx\u001b[0m\u001b[0;34m]\u001b[0m\u001b[0;34m,\u001b[0m \u001b[0mcmap\u001b[0m\u001b[0;34m=\u001b[0m\u001b[0;34m'binary'\u001b[0m\u001b[0;34m)\u001b[0m\u001b[0;34m\u001b[0m\u001b[0;34m\u001b[0m\u001b[0m\n\u001b[0m\u001b[1;32m      8\u001b[0m \u001b[0;34m\u001b[0m\u001b[0m\n\u001b[1;32m      9\u001b[0m         ax.set_title(\"label=\" +str(labels[idx])+\n",
            "\u001b[0;31mIndexError\u001b[0m: list index out of range"
          ]
        },
        {
          "output_type": "display_data",
          "data": {
            "image/png": "[encoded data removed]",
            "text/plain": [
              "<Figure size 720x864 with 10 Axes>"
            ]
          },
          "metadata": {
            "tags": [],
            "needs_background": "light"
          }
        }
      ]
    },
    {
      "cell_type": "markdown",
      "metadata": {
        "id": "eJgT6bh0I65e"
      },
      "source": [
        "- 模型存檔"
      ]
    },
    {
      "cell_type": "code",
      "metadata": {
        "id": "HWBLPnDF4i6G"
      },
      "source": [
        "model.save('/content/drive/MyDrive/Colab Notebooks/models/MNIST_DNN_model.h5')"
      ],
      "execution_count": null,
      "outputs": []
    },
    {
      "cell_type": "code",
      "metadata": {
        "id": "hc_YVqAt4n0i"
      },
      "source": [
        "# 確認模型是否載入成功\n",
        "from keras.models import load_model\n",
        "try:\n",
        "    model = load_model('/content/drive/MyDrive/Colab Notebooks/models/MNIST_DNN_model.h5')\n",
        "    print(\"載入模型成功!繼續訓練模型\")\n",
        "except :\n",
        "    print(\"載入模型失敗!開始訓練一個新模型\")"
      ],
      "execution_count": null,
      "outputs": []
    }
  ]
}