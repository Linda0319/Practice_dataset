{
  "nbformat": 4,
  "nbformat_minor": 0,
  "metadata": {
    "accelerator": "GPU",
    "colab": {
      "name": "MNIST_CNN",
      "provenance": [],
      "collapsed_sections": [],
      "authorship_tag": "ABX9TyOgHIk08TdzT50QpOhZbJwB",
      "include_colab_link": true
    },
    "kernelspec": {
      "display_name": "Python 3",
      "name": "python3"
    },
    "language_info": {
      "name": "python"
    }
  },
  "cells": [
    {
      "cell_type": "markdown",
      "metadata": {
        "id": "view-in-github",
        "colab_type": "text"
      },
      "source": [
        "<a href=\"https://colab.research.google.com/github/Linda0319/Practice_dataset/blob/main/MNIST_CNN.ipynb\" target=\"_parent\"><img src=\"https://colab.research.google.com/assets/colab-badge.svg\" alt=\"Open In Colab\"/></a>"
      ]
    },
    {
      "cell_type": "code",
      "metadata": {
        "id": "BAu8AlLpyTYT"
      },
      "source": [
        "'''導入套件'''\n",
        "import numpy as np \n",
        "import pandas as pd \n",
        "from tensorflow.keras.datasets import mnist\n",
        "from keras.utils import np_utils\n",
        "import matplotlib.pyplot as plt"
      ],
      "execution_count": null,
      "outputs": []
    },
    {
      "cell_type": "code",
      "metadata": {
        "id": "zxJtaOYd0jXE",
        "colab": {
          "base_uri": "https://localhost:8080/"
        },
        "outputId": "08998ac5-3133-4af3-9272-f63bc1baee71"
      },
      "source": [
        "'''選擇性，若需要將結果圖、模型匯出存到自己雲端硬碟'''\n",
        "from google.colab import drive \n",
        "drive.mount('/content/drive') # 跟著頁面指示將授權碼複製並貼到下方"
      ],
      "execution_count": null,
      "outputs": [
        {
          "output_type": "stream",
          "text": [
            "Mounted at /content/drive\n"
          ],
          "name": "stdout"
        }
      ]
    },
    {
      "cell_type": "markdown",
      "metadata": {
        "id": "CdV5eCpmz2vt"
      },
      "source": [
        "# 載入Mnist手寫辨識資料、資料前處理"
      ]
    },
    {
      "cell_type": "code",
      "metadata": {
        "id": "Gw81gcPL_N3f",
        "colab": {
          "base_uri": "https://localhost:8080/"
        },
        "outputId": "076a7ad1-3332-46eb-caac-0110acc3a6d4"
      },
      "source": [
        "'''從 keras 載入手寫資料集'''\n",
        "(x_train, y_train), (x_test, y_test) = mnist.load_data()"
      ],
      "execution_count": null,
      "outputs": [
        {
          "output_type": "stream",
          "text": [
            "Downloading data from https://storage.googleapis.com/tensorflow/tf-keras-datasets/mnist.npz\n",
            "11493376/11490434 [==============================] - 0s 0us/step\n"
          ],
          "name": "stdout"
        }
      ]
    },
    {
      "cell_type": "code",
      "metadata": {
        "colab": {
          "base_uri": "https://localhost:8080/",
          "height": 280
        },
        "id": "cfYczOih5c8B",
        "outputId": "5a361070-5f98-409e-fef5-b0ca2f2097d3"
      },
      "source": [
        "'''觀察訓練集(x_train) 第一筆資料(圖片)'''\n",
        "plt.imshow(x_train[0])"
      ],
      "execution_count": null,
      "outputs": [
        {
          "output_type": "execute_result",
          "data": {
            "text/plain": [
              "<matplotlib.image.AxesImage at 0x7ff1e8fc0150>"
            ]
          },
          "metadata": {
            "tags": []
          },
          "execution_count": 4
        },
        {
          "output_type": "display_data",
          "data": {
            "image/png": "[encoded data removed]",
            "text/plain": [
              "<Figure size 432x288 with 1 Axes>"
            ]
          },
          "metadata": {
            "tags": [],
            "needs_background": "light"
          }
        }
      ]
    },
    {
      "cell_type": "code",
      "metadata": {
        "colab": {
          "base_uri": "https://localhost:8080/"
        },
        "id": "_8Dwj64s6OJN",
        "outputId": "8167baef-4a4c-4f25-ab4f-35d7a24c0b06"
      },
      "source": [
        "'''觀察訓練集(y_train) 第一筆資料(數字)，看 x 對到的 y 是否正確'''\n",
        "y_train[0]"
      ],
      "execution_count": null,
      "outputs": [
        {
          "output_type": "execute_result",
          "data": {
            "text/plain": [
              "5"
            ]
          },
          "metadata": {
            "tags": []
          },
          "execution_count": 5
        }
      ]
    },
    {
      "cell_type": "code",
      "metadata": {
        "id": "rHR-GQxbPLua"
      },
      "source": [
        "'''建立大量觀察原始資料函式'''\n",
        "def plot_images_labels_original(images,labels,prediction,idx,num):\n",
        "    fig = plt.gcf() #得到當前的 figure\n",
        "    fig.set_size_inches(6, 8) #設定顯示圖片大小，預設為 6.4 * 4.8\n",
        "    if num>25: num=25 #假如顯示筆數超過25，設定為25以免發生錯誤（根據後面 plt.subplot 設定值而變）\n",
        "    for i in range(0, num):\n",
        "        ax=plt.subplot(5,5, 1+i) #建立多維視窗，5 plots per row and 5 per column add to a total number of 5*5 = 25\n",
        "        ax.imshow(images[idx], cmap='binary') #畫出黑白子圖形\n",
        "        title= \"label=\" +str(labels[idx]) #設定圖形title內容，先印出圖形的label值\n",
        "        # 如果有傳入預測值，就再印出預測值\n",
        "        if len(prediction)>0: \n",
        "          title+=\",predict=\"+str(prediction[idx]) \n",
        "            \n",
        "        ax.set_title(title,fontsize=10) #設定子圖形的標題title和大小\n",
        "        ax.set_xticks([]);ax.set_yticks([]) #設定為不顯示刻度        \n",
        "        idx+=1 #讀下一筆\n",
        "    plt.show()"
      ],
      "execution_count": null,
      "outputs": []
    },
    {
      "cell_type": "code",
      "metadata": {
        "colab": {
          "base_uri": "https://localhost:8080/",
          "height": 195
        },
        "id": "Ly44ziT9POwJ",
        "outputId": "23913ee2-13a5-41e2-fe4d-4203ea3caf5c"
      },
      "source": [
        "plot_images_labels_original(x_train,y_train,[],0,10) #觀察訓練集"
      ],
      "execution_count": null,
      "outputs": [
        {
          "output_type": "display_data",
          "data": {
            "image/png": "[encoded data removed]",
            "text/plain": [
              "<Figure size 432x576 with 10 Axes>"
            ]
          },
          "metadata": {
            "tags": []
          }
        }
      ]
    },
    {
      "cell_type": "code",
      "metadata": {
        "colab": {
          "base_uri": "https://localhost:8080/",
          "height": 195
        },
        "id": "wRQNqlNCQInc",
        "outputId": "427e74b2-ef28-4ab9-c534-b7c686bab221"
      },
      "source": [
        "plot_images_labels_original(x_test,y_test,[],0,10) #觀察測試集"
      ],
      "execution_count": null,
      "outputs": [
        {
          "output_type": "display_data",
          "data": {
            "image/png": "[encoded data removed]",
            "text/plain": [
              "<Figure size 432x576 with 10 Axes>"
            ]
          },
          "metadata": {
            "tags": []
          }
        }
      ]
    },
    {
      "cell_type": "markdown",
      "metadata": {
        "id": "H8MpykHtdWmm"
      },
      "source": [
        "- **資料轉化**"
      ]
    },
    {
      "cell_type": "code",
      "metadata": {
        "id": "SFfY-LaE0pr4"
      },
      "source": [
        "'''建立資料轉換函式'''\n",
        "def data_transform():\n",
        "      # 將x(28*28pixels黑白圖片矩陣)轉為一維784個數字(訓練用特徵)\n",
        "      x_train4D = x_train.reshape(x_train.shape[0], 28, 28, 1).astype('float32')\n",
        "      x_test4D = x_test.reshape(x_test.shape[0], 28, 28, 1).astype('float32')\n",
        "\n",
        "      # 轉換灰階圖片數值為0-255到0~1\n",
        "      x_train4D_normalize = x_train4D/255 \n",
        "      x_test4D_normalize = x_test4D/255\n",
        "\n",
        "      # y 值轉成 one-hot encoding（類別）\n",
        "      y_trainOneHot = np_utils.to_categorical(y_train)\n",
        "      y_testOneHot = np_utils.to_categorical(y_test)\n",
        "\n",
        "      # 傳回轉換後的訓練及測試集\n",
        "      return x_train4D_normalize,y_trainOneHot, x_test4D_normalize, y_testOneHot"
      ],
      "execution_count": null,
      "outputs": []
    },
    {
      "cell_type": "code",
      "metadata": {
        "colab": {
          "base_uri": "https://localhost:8080/"
        },
        "id": "9vtTiJJv2FNQ",
        "outputId": "43a581fb-cff4-445d-b227-789ff4bcb24e"
      },
      "source": [
        "'''印出進入模型前的資料外型，訓練60,000筆，測試10,000筆'''\n",
        "x_train4D_normalize,y_trainOneHot, x_test4D_normalize, y_testOneHot = data_transform()\n",
        "print('x_train_image:', x_train4D_normalize.shape) \n",
        "print('y_train_label:', y_trainOneHot.shape)\n",
        "\n",
        "print('x_test_image:', x_test4D_normalize.shape)\n",
        "print('y_test_label:', y_testOneHot.shape)"
      ],
      "execution_count": null,
      "outputs": [
        {
          "output_type": "stream",
          "text": [
            "x_train_image: (60000, 28, 28, 1)\n",
            "y_train_label: (60000, 10)\n",
            "x_test_image: (10000, 28, 28, 1)\n",
            "y_test_label: (10000, 10)\n"
          ],
          "name": "stdout"
        }
      ]
    },
    {
      "cell_type": "markdown",
      "metadata": {
        "id": "uLEUK98T7Zmx"
      },
      "source": [
        "# **建立模型**"
      ]
    },
    {
      "cell_type": "code",
      "metadata": {
        "id": "RrAD4IgM9223"
      },
      "source": [
        "'''選擇性，設定模型訓練時固定起始值，儘量讓模型重跑時結果一致（實務上還是會因為計算晶片不同而有一點點不同）'''\n",
        "import tensorflow as tf\n",
        "import random\n",
        "fixed_seed_num = 2021\n",
        "\n",
        "np.random.seed(fixed_seed_num)\n",
        "random.seed(fixed_seed_num)\n",
        "tf.random.set_seed(fixed_seed_num)\n",
        "\n",
        "'''導入 keras 及相關模組建立 CNN 模型'''\n",
        "import keras\n",
        "from keras import optimizers\n",
        "from keras.models import Sequential\n",
        "from keras.layers import Conv2D, Dense, Dropout, Activation, Flatten, MaxPooling2D"
      ],
      "execution_count": null,
      "outputs": []
    },
    {
      "cell_type": "markdown",
      "metadata": {
        "id": "b92eYcVf7uzs"
      },
      "source": [
        "# **CNN**"
      ]
    },
    {
      "cell_type": "code",
      "metadata": {
        "id": "_jKRJHwXzims",
        "colab": {
          "base_uri": "https://localhost:8080/"
        },
        "outputId": "311fbce8-c1f5-4bc3-a387-32cddc547870"
      },
      "source": [
        "'''建立模型'''\n",
        "# 調整層數：範例3層Conv2D卷積、1層MaxPooling2D池化、1層Dense全連接\n",
        "# 調整Node數：範例2層Dropout隨機關掉節點（50%）\n",
        "# 調整學習率learning_rate：範例0.01\n",
        "# 調整優化器optimizer：範例Adam，其它還有SGD、RMSprop、Adadelta等（參考Keras API reference > Optimizers）\n",
        "model = Sequential([\n",
        "    Conv2D(64, kernel_size=(3, 3), activation='relu', input_shape=(28, 28, 1)), \n",
        "    MaxPooling2D(pool_size=(2, 2)),\n",
        "    Conv2D(64, kernel_size=(3, 3), activation='relu'),\n",
        "    Conv2D(64, kernel_size=(3, 3), activation='relu'),\n",
        "    Dropout(0.5),\n",
        "\n",
        "    Flatten(),\n",
        "    Dropout(0.5),\n",
        "    Dense(10, activation='softmax')\n",
        "])\n",
        "# compile(編譯): 選擇損失函數、優化方法及成效衡量方式\n",
        "opt = keras.optimizers.Adam(learning_rate=0.01)\n",
        "model.compile(loss='categorical_crossentropy', optimizer='Adam', metrics=['accuracy'])\n",
        "# 印出模型架構\n",
        "print(model.summary())"
      ],
      "execution_count": null,
      "outputs": [
        {
          "output_type": "stream",
          "text": [
            "Model: \"sequential_1\"\n",
            "_________________________________________________________________\n",
            "Layer (type)                 Output Shape              Param #   \n",
            "=================================================================\n",
            "conv2d_3 (Conv2D)            (None, 26, 26, 64)        640       \n",
            "_________________________________________________________________\n",
            "max_pooling2d_1 (MaxPooling2 (None, 13, 13, 64)        0         \n",
            "_________________________________________________________________\n",
            "conv2d_4 (Conv2D)            (None, 11, 11, 64)        36928     \n",
            "_________________________________________________________________\n",
            "conv2d_5 (Conv2D)            (None, 9, 9, 64)          36928     \n",
            "_________________________________________________________________\n",
            "dropout_2 (Dropout)          (None, 9, 9, 64)          0         \n",
            "_________________________________________________________________\n",
            "flatten_1 (Flatten)          (None, 5184)              0         \n",
            "_________________________________________________________________\n",
            "dropout_3 (Dropout)          (None, 5184)              0         \n",
            "_________________________________________________________________\n",
            "dense_1 (Dense)              (None, 10)                51850     \n",
            "=================================================================\n",
            "Total params: 126,346\n",
            "Trainable params: 126,346\n",
            "Non-trainable params: 0\n",
            "_________________________________________________________________\n",
            "None\n"
          ],
          "name": "stdout"
        }
      ]
    },
    {
      "cell_type": "code",
      "metadata": {
        "colab": {
          "base_uri": "https://localhost:8080/"
        },
        "id": "U2DAnO1d87dn",
        "outputId": "c45aa449-846d-49c7-9536-5628384a17cd"
      },
      "source": [
        "'''訓練模型，訓練過程會存在 train_history 變數中'''\n",
        "# 調整batch_sizde：範例2000筆\n",
        "# 調整epochs：範例20次\n",
        "train_history = model.fit(x=x_train4D_normalize, y=y_trainOneHot, validation_split=0.2, batch_size=2000, epochs=20, verbose=2)"
      ],
      "execution_count": null,
      "outputs": [
        {
          "output_type": "stream",
          "text": [
            "Epoch 1/20\n",
            "24/24 - 49s - loss: 1.1455 - accuracy: 0.6392 - val_loss: 0.3399 - val_accuracy: 0.9014\n",
            "Epoch 2/20\n",
            "24/24 - 2s - loss: 0.3393 - accuracy: 0.8963 - val_loss: 0.1829 - val_accuracy: 0.9481\n",
            "Epoch 3/20\n",
            "24/24 - 2s - loss: 0.2046 - accuracy: 0.9379 - val_loss: 0.1269 - val_accuracy: 0.9630\n",
            "Epoch 4/20\n",
            "24/24 - 2s - loss: 0.1471 - accuracy: 0.9555 - val_loss: 0.0953 - val_accuracy: 0.9724\n",
            "Epoch 5/20\n",
            "24/24 - 2s - loss: 0.1182 - accuracy: 0.9635 - val_loss: 0.0771 - val_accuracy: 0.9786\n",
            "Epoch 6/20\n",
            "24/24 - 2s - loss: 0.0990 - accuracy: 0.9700 - val_loss: 0.0688 - val_accuracy: 0.9799\n",
            "Epoch 7/20\n",
            "24/24 - 2s - loss: 0.0846 - accuracy: 0.9736 - val_loss: 0.0588 - val_accuracy: 0.9837\n",
            "Epoch 8/20\n",
            "24/24 - 2s - loss: 0.0762 - accuracy: 0.9760 - val_loss: 0.0577 - val_accuracy: 0.9833\n",
            "Epoch 9/20\n",
            "24/24 - 2s - loss: 0.0721 - accuracy: 0.9780 - val_loss: 0.0573 - val_accuracy: 0.9829\n",
            "Epoch 10/20\n",
            "24/24 - 2s - loss: 0.0655 - accuracy: 0.9795 - val_loss: 0.0493 - val_accuracy: 0.9849\n",
            "Epoch 11/20\n",
            "24/24 - 2s - loss: 0.0601 - accuracy: 0.9810 - val_loss: 0.0442 - val_accuracy: 0.9868\n",
            "Epoch 12/20\n",
            "24/24 - 2s - loss: 0.0544 - accuracy: 0.9829 - val_loss: 0.0436 - val_accuracy: 0.9863\n",
            "Epoch 13/20\n",
            "24/24 - 2s - loss: 0.0506 - accuracy: 0.9844 - val_loss: 0.0425 - val_accuracy: 0.9871\n",
            "Epoch 14/20\n",
            "24/24 - 2s - loss: 0.0488 - accuracy: 0.9850 - val_loss: 0.0433 - val_accuracy: 0.9875\n",
            "Epoch 15/20\n",
            "24/24 - 2s - loss: 0.0453 - accuracy: 0.9861 - val_loss: 0.0380 - val_accuracy: 0.9889\n",
            "Epoch 16/20\n",
            "24/24 - 2s - loss: 0.0438 - accuracy: 0.9861 - val_loss: 0.0387 - val_accuracy: 0.9884\n",
            "Epoch 17/20\n",
            "24/24 - 2s - loss: 0.0427 - accuracy: 0.9868 - val_loss: 0.0373 - val_accuracy: 0.9894\n",
            "Epoch 18/20\n",
            "24/24 - 2s - loss: 0.0420 - accuracy: 0.9867 - val_loss: 0.0387 - val_accuracy: 0.9887\n",
            "Epoch 19/20\n",
            "24/24 - 2s - loss: 0.0387 - accuracy: 0.9880 - val_loss: 0.0368 - val_accuracy: 0.9894\n",
            "Epoch 20/20\n",
            "24/24 - 2s - loss: 0.0365 - accuracy: 0.9882 - val_loss: 0.0356 - val_accuracy: 0.9888\n"
          ],
          "name": "stdout"
        }
      ]
    },
    {
      "cell_type": "code",
      "metadata": {
        "id": "UviKDSKY9YvV"
      },
      "source": [
        "'''定義訓練、驗證 loss 變化圖含式''' \n",
        "images_dir = '/content/drive/MyDrive/Colab Notebooks/images/' # 選擇性，若要將圖存到自己雲端硬碟，需更改成自己的路徑，若不要可將 filename 變數拿掉\n",
        "def show_train_loss_history(train_loss, val_loss, filename):\n",
        "    plt.plot(train_history.history[train_loss])\n",
        "    plt.plot(train_history.history[val_loss])\n",
        "    plt.title('Training and Validation Losses')\n",
        "    plt.ylabel('Loss')\n",
        "    plt.xlabel('Epoch')\n",
        "    plt.legend(['Training', 'Validation'], loc='upper left')\n",
        "    #plt.show()\n",
        "    plt.savefig(f'{images_dir}'+ 'MNIST_DNN_' + filename +'.jpg')"
      ],
      "execution_count": null,
      "outputs": []
    },
    {
      "cell_type": "code",
      "metadata": {
        "colab": {
          "base_uri": "https://localhost:8080/",
          "height": 294
        },
        "id": "9kpoFR5wS3ID",
        "outputId": "bce817c5-89af-4bef-d7ed-24530dd7123a"
      },
      "source": [
        "show_train_loss_history('loss','val_loss', 'train_loss') #畫圖並以 train_loss 為檔名存檔，若想存不同張，記得改檔名"
      ],
      "execution_count": null,
      "outputs": [
        {
          "output_type": "display_data",
          "data": {
            "image/png": "[encoded data removed]",
            "text/plain": [
              "<Figure size 432x288 with 1 Axes>"
            ]
          },
          "metadata": {
            "tags": [],
            "needs_background": "light"
          }
        }
      ]
    },
    {
      "cell_type": "code",
      "metadata": {
        "id": "8Nqg60GbS_Cj"
      },
      "source": [
        "'''定義訓練、驗證 accuracy 變化圖含式'''\n",
        "images_dir = '/content/drive/MyDrive/Colab Notebooks/images/' # 選擇性，若要將圖存到自己雲端硬碟，需更改成自己的路徑，若不要可將 filename 變數拿掉\n",
        "def show_train_accuracy_history(train_acc, val_acc, filename):\n",
        "    plt.plot(train_history.history[train_acc])\n",
        "    plt.plot(train_history.history[val_acc])\n",
        "    plt.title('Training and Validation Accuracy')\n",
        "    plt.ylabel('Accuracy')\n",
        "    plt.xlabel('Epoch')\n",
        "    plt.legend(['Training', 'Validation'], loc='upper left')\n",
        "    #plt.show()\n",
        "    plt.savefig(f'{images_dir}'+ 'MNIST_DNN_' + filename +'.jpg')"
      ],
      "execution_count": null,
      "outputs": []
    },
    {
      "cell_type": "code",
      "metadata": {
        "colab": {
          "base_uri": "https://localhost:8080/",
          "height": 294
        },
        "id": "4sxGOR8mTNhm",
        "outputId": "87febda8-c1be-4724-b69c-4e3218989aa0"
      },
      "source": [
        "show_train_accuracy_history('accuracy','val_accuracy','train_accuracy') #畫圖並以 train_accuracy 為檔名存檔，若想存不同張，記得改檔名"
      ],
      "execution_count": null,
      "outputs": [
        {
          "output_type": "display_data",
          "data": {
            "image/png": "[encoded data removed]",
            "text/plain": [
              "<Figure size 432x288 with 1 Axes>"
            ]
          },
          "metadata": {
            "tags": [],
            "needs_background": "light"
          }
        }
      ]
    },
    {
      "cell_type": "markdown",
      "metadata": {
        "id": "fcNc_Y9QWAST"
      },
      "source": [
        "# **模型評估與預測**"
      ]
    },
    {
      "cell_type": "code",
      "metadata": {
        "colab": {
          "base_uri": "https://localhost:8080/"
        },
        "id": "9OZGWpbhVFiz",
        "outputId": "e0cbe220-07dd-4ce9-b755-e3cfa2a3ea2d"
      },
      "source": [
        "'''用測試集評估 CNN 模型結果（分數）'''\n",
        "scores = model.evaluate(x_test4D_normalize, y_testOneHot)\n",
        "scores[1]"
      ],
      "execution_count": null,
      "outputs": [
        {
          "output_type": "stream",
          "text": [
            "313/313 [==============================] - 2s 4ms/step - loss: 0.0252 - accuracy: 0.9915\n"
          ],
          "name": "stdout"
        },
        {
          "output_type": "execute_result",
          "data": {
            "text/plain": [
              "0.9915000200271606"
            ]
          },
          "metadata": {
            "tags": []
          },
          "execution_count": 16
        }
      ]
    },
    {
      "cell_type": "code",
      "metadata": {
        "colab": {
          "base_uri": "https://localhost:8080/"
        },
        "id": "ZoOHPR3G7ZF5",
        "outputId": "91349c22-cda0-48c3-fb62-2f99e7f27a6a"
      },
      "source": [
        "'''看預測結果'''\n",
        "y_pred_class = model.predict_classes(x_test4D_normalize)\n",
        "y_pred_class[:10] #看前10筆"
      ],
      "execution_count": null,
      "outputs": [
        {
          "output_type": "stream",
          "text": [
            "/usr/local/lib/python3.7/dist-packages/keras/engine/sequential.py:450: UserWarning: `model.predict_classes()` is deprecated and will be removed after 2021-01-01. Please use instead:* `np.argmax(model.predict(x), axis=-1)`,   if your model does multi-class classification   (e.g. if it uses a `softmax` last-layer activation).* `(model.predict(x) > 0.5).astype(\"int32\")`,   if your model does binary classification   (e.g. if it uses a `sigmoid` last-layer activation).\n",
            "  warnings.warn('`model.predict_classes()` is deprecated and '\n"
          ],
          "name": "stderr"
        },
        {
          "output_type": "execute_result",
          "data": {
            "text/plain": [
              "array([7, 2, 1, 0, 4, 1, 4, 9, 5, 9])"
            ]
          },
          "metadata": {
            "tags": []
          },
          "execution_count": 20
        }
      ]
    },
    {
      "cell_type": "markdown",
      "metadata": {
        "id": "XX0BhMvpi_hr"
      },
      "source": [
        "- 看label與predict圖"
      ]
    },
    {
      "cell_type": "code",
      "metadata": {
        "id": "ww9ifDFviSmr"
      },
      "source": [
        "'''建立大量觀察預測結果函式'''\n",
        "def plot_images_labels_prediction(images,labels,prediction,idx,num=10): #預設畫10張圖\n",
        "    fig = plt.gcf() #得到當前的 figure\n",
        "    fig.set_size_inches(10, 12) #設定顯示圖片大小，預設為 6.4 * 4.8\n",
        "    if num>25: num=25 #假如顯示筆數超過25，設定為25以免發生錯誤（根據後面 plt.subplot 設定值而變）\n",
        "    for i in range(0, num):\n",
        "        ax=plt.subplot(5,5, 1+i) #建立多維視窗，5 plots per row and 5 per column add to a total number of 5*5 = 25\n",
        "        ax.imshow(images[idx], cmap='binary') #畫出黑白子圖形\n",
        "\n",
        "        ax.set_title(\"label=\" +str(labels[idx])+\n",
        "                     \",predict=\"+str(prediction[idx])\n",
        "                     ,fontsize=10)  #設定圖形title內容，印出圖形的標籤 label 及 預測predict\n",
        "        \n",
        "        ax.set_xticks([]);ax.set_yticks([]) #設定為不顯示刻度         \n",
        "        idx+=1 #讀下一筆\n",
        "    plt.show()"
      ],
      "execution_count": null,
      "outputs": []
    },
    {
      "cell_type": "code",
      "metadata": {
        "colab": {
          "base_uri": "https://localhost:8080/",
          "height": 278
        },
        "id": "7cM0HIgFa-UE",
        "outputId": "ed4563a8-a767-4a10-8478-5b613517ec67"
      },
      "source": [
        "plot_images_labels_prediction(x_test,y_test,y_pred_class,idx=0)"
      ],
      "execution_count": null,
      "outputs": [
        {
          "output_type": "display_data",
          "data": {
            "image/png": "[encoded data removed]",
            "text/plain": [
              "<Figure size 720x864 with 10 Axes>"
            ]
          },
          "metadata": {
            "tags": []
          }
        }
      ]
    },
    {
      "cell_type": "markdown",
      "metadata": {
        "id": "J87eT5YpjFgv"
      },
      "source": [
        "- 用矩陣看預測結果"
      ]
    },
    {
      "cell_type": "code",
      "metadata": {
        "colab": {
          "base_uri": "https://localhost:8080/",
          "height": 383
        },
        "id": "ZSx9IO17bAKw",
        "outputId": "6198bf51-648a-44a6-97e2-0eb37dafa0e5"
      },
      "source": [
        "'''使用交叉表觀察 標籤 與 預測結果'''\n",
        "pd.crosstab(y_test,y_pred_class,\n",
        "            rownames=['label'],colnames=['predict'])"
      ],
      "execution_count": null,
      "outputs": [
        {
          "output_type": "execute_result",
          "data": {
            "text/html": [
              "<div>\n",
              "<style scoped>\n",
              "    .dataframe tbody tr th:only-of-type {\n",
              "        vertical-align: middle;\n",
              "    }\n",
              "\n",
              "    .dataframe tbody tr th {\n",
              "        vertical-align: top;\n",
              "    }\n",
              "\n",
              "    .dataframe thead th {\n",
              "        text-align: right;\n",
              "    }\n",
              "</style>\n",
              "<table border=\"1\" class=\"dataframe\">\n",
              "  <thead>\n",
              "    <tr style=\"text-align: right;\">\n",
              "      <th>predict</th>\n",
              "      <th>0</th>\n",
              "      <th>1</th>\n",
              "      <th>2</th>\n",
              "      <th>3</th>\n",
              "      <th>4</th>\n",
              "      <th>5</th>\n",
              "      <th>6</th>\n",
              "      <th>7</th>\n",
              "      <th>8</th>\n",
              "      <th>9</th>\n",
              "    </tr>\n",
              "    <tr>\n",
              "      <th>label</th>\n",
              "      <th></th>\n",
              "      <th></th>\n",
              "      <th></th>\n",
              "      <th></th>\n",
              "      <th></th>\n",
              "      <th></th>\n",
              "      <th></th>\n",
              "      <th></th>\n",
              "      <th></th>\n",
              "      <th></th>\n",
              "    </tr>\n",
              "  </thead>\n",
              "  <tbody>\n",
              "    <tr>\n",
              "      <th>0</th>\n",
              "      <td>976</td>\n",
              "      <td>0</td>\n",
              "      <td>1</td>\n",
              "      <td>0</td>\n",
              "      <td>0</td>\n",
              "      <td>0</td>\n",
              "      <td>1</td>\n",
              "      <td>1</td>\n",
              "      <td>1</td>\n",
              "      <td>0</td>\n",
              "    </tr>\n",
              "    <tr>\n",
              "      <th>1</th>\n",
              "      <td>0</td>\n",
              "      <td>1131</td>\n",
              "      <td>1</td>\n",
              "      <td>1</td>\n",
              "      <td>0</td>\n",
              "      <td>0</td>\n",
              "      <td>1</td>\n",
              "      <td>1</td>\n",
              "      <td>0</td>\n",
              "      <td>0</td>\n",
              "    </tr>\n",
              "    <tr>\n",
              "      <th>2</th>\n",
              "      <td>1</td>\n",
              "      <td>1</td>\n",
              "      <td>1025</td>\n",
              "      <td>0</td>\n",
              "      <td>0</td>\n",
              "      <td>0</td>\n",
              "      <td>0</td>\n",
              "      <td>3</td>\n",
              "      <td>2</td>\n",
              "      <td>0</td>\n",
              "    </tr>\n",
              "    <tr>\n",
              "      <th>3</th>\n",
              "      <td>0</td>\n",
              "      <td>0</td>\n",
              "      <td>3</td>\n",
              "      <td>998</td>\n",
              "      <td>0</td>\n",
              "      <td>5</td>\n",
              "      <td>0</td>\n",
              "      <td>3</td>\n",
              "      <td>1</td>\n",
              "      <td>0</td>\n",
              "    </tr>\n",
              "    <tr>\n",
              "      <th>4</th>\n",
              "      <td>0</td>\n",
              "      <td>0</td>\n",
              "      <td>0</td>\n",
              "      <td>0</td>\n",
              "      <td>977</td>\n",
              "      <td>0</td>\n",
              "      <td>1</td>\n",
              "      <td>0</td>\n",
              "      <td>1</td>\n",
              "      <td>3</td>\n",
              "    </tr>\n",
              "    <tr>\n",
              "      <th>5</th>\n",
              "      <td>2</td>\n",
              "      <td>0</td>\n",
              "      <td>0</td>\n",
              "      <td>4</td>\n",
              "      <td>0</td>\n",
              "      <td>881</td>\n",
              "      <td>2</td>\n",
              "      <td>1</td>\n",
              "      <td>0</td>\n",
              "      <td>2</td>\n",
              "    </tr>\n",
              "    <tr>\n",
              "      <th>6</th>\n",
              "      <td>5</td>\n",
              "      <td>2</td>\n",
              "      <td>0</td>\n",
              "      <td>0</td>\n",
              "      <td>1</td>\n",
              "      <td>1</td>\n",
              "      <td>948</td>\n",
              "      <td>0</td>\n",
              "      <td>1</td>\n",
              "      <td>0</td>\n",
              "    </tr>\n",
              "    <tr>\n",
              "      <th>7</th>\n",
              "      <td>0</td>\n",
              "      <td>3</td>\n",
              "      <td>4</td>\n",
              "      <td>1</td>\n",
              "      <td>0</td>\n",
              "      <td>0</td>\n",
              "      <td>0</td>\n",
              "      <td>1018</td>\n",
              "      <td>1</td>\n",
              "      <td>1</td>\n",
              "    </tr>\n",
              "    <tr>\n",
              "      <th>8</th>\n",
              "      <td>3</td>\n",
              "      <td>0</td>\n",
              "      <td>1</td>\n",
              "      <td>1</td>\n",
              "      <td>0</td>\n",
              "      <td>1</td>\n",
              "      <td>0</td>\n",
              "      <td>2</td>\n",
              "      <td>963</td>\n",
              "      <td>3</td>\n",
              "    </tr>\n",
              "    <tr>\n",
              "      <th>9</th>\n",
              "      <td>1</td>\n",
              "      <td>2</td>\n",
              "      <td>0</td>\n",
              "      <td>0</td>\n",
              "      <td>3</td>\n",
              "      <td>3</td>\n",
              "      <td>0</td>\n",
              "      <td>2</td>\n",
              "      <td>0</td>\n",
              "      <td>998</td>\n",
              "    </tr>\n",
              "  </tbody>\n",
              "</table>\n",
              "</div>"
            ],
            "text/plain": [
              "predict    0     1     2    3    4    5    6     7    8    9\n",
              "label                                                       \n",
              "0        976     0     1    0    0    0    1     1    1    0\n",
              "1          0  1131     1    1    0    0    1     1    0    0\n",
              "2          1     1  1025    0    0    0    0     3    2    0\n",
              "3          0     0     3  998    0    5    0     3    1    0\n",
              "4          0     0     0    0  977    0    1     0    1    3\n",
              "5          2     0     0    4    0  881    2     1    0    2\n",
              "6          5     2     0    0    1    1  948     0    1    0\n",
              "7          0     3     4    1    0    0    0  1018    1    1\n",
              "8          3     0     1    1    0    1    0     2  963    3\n",
              "9          1     2     0    0    3    3    0     2    0  998"
            ]
          },
          "metadata": {
            "tags": []
          },
          "execution_count": 49
        }
      ]
    },
    {
      "cell_type": "code",
      "metadata": {
        "colab": {
          "base_uri": "https://localhost:8080/",
          "height": 201
        },
        "id": "-AJkINq3jfW_",
        "outputId": "9287eb83-d79b-4c56-f3da-5c975b5ecd35"
      },
      "source": [
        "'''進一步，建立 標籤 與 預測結果表格，看預測錯誤的 特定標籤 與 特定預測結果資料'''\n",
        "df = pd.DataFrame({'label':y_test, 'predict':y_pred_class})\n",
        "df[(df.label==6)&(df.predict==0)] "
      ],
      "execution_count": null,
      "outputs": [
        {
          "output_type": "execute_result",
          "data": {
            "text/html": [
              "<div>\n",
              "<style scoped>\n",
              "    .dataframe tbody tr th:only-of-type {\n",
              "        vertical-align: middle;\n",
              "    }\n",
              "\n",
              "    .dataframe tbody tr th {\n",
              "        vertical-align: top;\n",
              "    }\n",
              "\n",
              "    .dataframe thead th {\n",
              "        text-align: right;\n",
              "    }\n",
              "</style>\n",
              "<table border=\"1\" class=\"dataframe\">\n",
              "  <thead>\n",
              "    <tr style=\"text-align: right;\">\n",
              "      <th></th>\n",
              "      <th>label</th>\n",
              "      <th>predict</th>\n",
              "    </tr>\n",
              "  </thead>\n",
              "  <tbody>\n",
              "    <tr>\n",
              "      <th>259</th>\n",
              "      <td>6</td>\n",
              "      <td>0</td>\n",
              "    </tr>\n",
              "    <tr>\n",
              "      <th>445</th>\n",
              "      <td>6</td>\n",
              "      <td>0</td>\n",
              "    </tr>\n",
              "    <tr>\n",
              "      <th>965</th>\n",
              "      <td>6</td>\n",
              "      <td>0</td>\n",
              "    </tr>\n",
              "    <tr>\n",
              "      <th>2118</th>\n",
              "      <td>6</td>\n",
              "      <td>0</td>\n",
              "    </tr>\n",
              "    <tr>\n",
              "      <th>3422</th>\n",
              "      <td>6</td>\n",
              "      <td>0</td>\n",
              "    </tr>\n",
              "  </tbody>\n",
              "</table>\n",
              "</div>"
            ],
            "text/plain": [
              "      label  predict\n",
              "259       6        0\n",
              "445       6        0\n",
              "965       6        0\n",
              "2118      6        0\n",
              "3422      6        0"
            ]
          },
          "metadata": {
            "tags": []
          },
          "execution_count": 50
        }
      ]
    },
    {
      "cell_type": "code",
      "metadata": {
        "colab": {
          "base_uri": "https://localhost:8080/",
          "height": 143
        },
        "id": "WtGWIwW-jy8G",
        "outputId": "1cedd630-75e4-4e9f-e9a4-01a9554306e5"
      },
      "source": [
        "'''畫預測錯誤的圖，選想觀察的特定資料（用 index）'''\n",
        "plot_images_labels_prediction(\n",
        "    [x_test[i] for i in df[(df.label==6)&(df.predict==0)].index], \n",
        "    [y_test[i] for i in df[(df.label==6)&(df.predict==0)].index],\n",
        "    y_pred_class,idx=0,num=5) #num 根據你的資料筆數做調整，預設10張"
      ],
      "execution_count": null,
      "outputs": [
        {
          "output_type": "display_data",
          "data": {
            "image/png": "[encoded data removed]",
            "text/plain": [
              "<Figure size 720x864 with 5 Axes>"
            ]
          },
          "metadata": {
            "tags": []
          }
        }
      ]
    },
    {
      "cell_type": "markdown",
      "metadata": {
        "id": "eJgT6bh0I65e"
      },
      "source": [
        "- 模型存檔"
      ]
    },
    {
      "cell_type": "code",
      "metadata": {
        "id": "HWBLPnDF4i6G"
      },
      "source": [
        "'''模型結構存檔'''\n",
        "model.save('/content/drive/MyDrive/Colab Notebooks/models/MNIST_DNN_model.h5')"
      ],
      "execution_count": null,
      "outputs": []
    },
    {
      "cell_type": "code",
      "metadata": {
        "id": "hc_YVqAt4n0i",
        "colab": {
          "base_uri": "https://localhost:8080/"
        },
        "outputId": "45bc6c7e-e670-418b-e275-800f77e741aa"
      },
      "source": [
        "# 確認模型是否可順利載入使用\n",
        "from keras.models import load_model\n",
        "try:\n",
        "    model = load_model('/content/drive/MyDrive/Colab Notebooks/models/MNIST_DNN_model.h5')\n",
        "    print(\"載入模型成功!繼續訓練模型\")\n",
        "except :\n",
        "    print(\"載入模型失敗!開始訓練一個新模型\")"
      ],
      "execution_count": null,
      "outputs": [
        {
          "output_type": "stream",
          "text": [
            "載入模型成功!繼續訓練模型\n"
          ],
          "name": "stdout"
        }
      ]
    }
  ]
}